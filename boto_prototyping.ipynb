{
 "cells": [
  {
   "cell_type": "code",
   "execution_count": 61,
   "metadata": {},
   "outputs": [],
   "source": [
    "import boto3\n",
    "import datetime as dt\n",
    "import dateutil.relativedelta as relativedelta\n",
    "import pandas as pd\n",
    "import base64"
   ]
  },
  {
   "cell_type": "code",
   "execution_count": 2,
   "metadata": {},
   "outputs": [],
   "source": [
    "access_creds = open('access_creds.txt', 'r')"
   ]
  },
  {
   "cell_type": "code",
   "execution_count": 3,
   "metadata": {},
   "outputs": [],
   "source": [
    "creds = access_creds.readlines()"
   ]
  },
  {
   "cell_type": "code",
   "execution_count": 4,
   "metadata": {},
   "outputs": [],
   "source": [
    "ec2 = boto3.client('ec2', region_name='us-east-1', aws_access_key_id=creds[0][:-1], \n",
    "             aws_secret_access_key=creds[1][:-1])"
   ]
  },
  {
   "cell_type": "code",
   "execution_count": 6,
   "metadata": {},
   "outputs": [],
   "source": [
    "#ec2.describe_instances()"
   ]
  },
  {
   "cell_type": "code",
   "execution_count": 92,
   "metadata": {},
   "outputs": [],
   "source": [
    "spot_launch_script = b'''\n",
    "#!/bin/sh \\n\n",
    "\n",
    "cd /home/ubuntu/\\n\n",
    "echo 'create folder'\\n\n",
    "\n",
    "rm -r -f processing_information\\n\n",
    "\n",
    "mkdir processing_information\\n\n",
    "cd processing_information\\n\n",
    "\n",
    "echo 'clone code' \\n\n",
    "git clone https://github.com/kuhanw/seq2seq.git \\n\n",
    "git clone https://github.com/kuhanw/processed_data.git \\n\n",
    "\n",
    "cd processed_data \\n\n",
    "\n",
    "unrar e processed_data.rar \\n\n",
    "'''"
   ]
  },
  {
   "cell_type": "code",
   "execution_count": 93,
   "metadata": {},
   "outputs": [],
   "source": [
    "price_history = ec2.describe_spot_price_history(InstanceTypes=['p2.xlarge'], EndTime=dt.datetime.now(), \n",
    "                                                MaxResults=100, ProductDescriptions=['Linux/UNIX'])"
   ]
  },
  {
   "cell_type": "code",
   "execution_count": 94,
   "metadata": {},
   "outputs": [],
   "source": [
    "df_price_history = pd.DataFrame(price_history['SpotPriceHistory'])"
   ]
  },
  {
   "cell_type": "code",
   "execution_count": 95,
   "metadata": {},
   "outputs": [],
   "source": [
    "df_price_history['SpotPrice'] = df_price_history['SpotPrice'].apply(float)"
   ]
  },
  {
   "cell_type": "code",
   "execution_count": 96,
   "metadata": {},
   "outputs": [
    {
     "data": {
      "text/plain": [
       "count    100.000000\n",
       "mean       0.348975\n",
       "std        0.162561\n",
       "min        0.242700\n",
       "25%        0.254700\n",
       "50%        0.282500\n",
       "75%        0.321050\n",
       "max        0.724000\n",
       "Name: SpotPrice, dtype: float64"
      ]
     },
     "execution_count": 96,
     "metadata": {},
     "output_type": "execute_result"
    }
   ],
   "source": [
    "df_price_history['SpotPrice'].describe()"
   ]
  },
  {
   "cell_type": "code",
   "execution_count": null,
   "metadata": {},
   "outputs": [],
   "source": [
    "spot_launch_script = b'''\n",
    "#!/bin/sh \\n\n",
    "\n",
    "cd /home/ubuntu/\\n\n",
    "echo 'create folder'\\n\n",
    "\n",
    "rm -r -f processing_information\\n\n",
    "\n",
    "mkdir processing_information\\n\n",
    "cd processing_information\\n\n",
    "\n",
    "echo 'clone code' \\n\n",
    "git clone https://github.com/kuhanw/seq2seq.git \\n\n",
    "git clone https://github.com/kuhanw/processed_data.git \\n\n",
    "\n",
    "cd processed_data \\n\n",
    "\n",
    "unrar e processed_data.rar \\n"
   ]
  },
  {
   "cell_type": "code",
   "execution_count": 105,
   "metadata": {},
   "outputs": [],
   "source": [
    "spot_request = ec2.request_spot_instances(\n",
    "    BlockDurationMinutes=180,\n",
    "    ClientToken='instance-13',\n",
    "    DryRun=False,\n",
    "    InstanceCount=1,\n",
    "    LaunchSpecification={        \n",
    "        'SecurityGroups': ['default'],\n",
    "        'ImageId': 'ami-7399ec09',\n",
    "        'InstanceType': 'p2.xlarge',\n",
    "         'UserData': base64.b64encode(b'''#!/bin/sh\\n \n",
    "         cd /home/ubuntu\\n \n",
    "         echo 'create folder'\\n \n",
    "         rm -r -f processing_information\\n \n",
    "         mkdir processing_information\\n \n",
    "         cd processing_information\\n \n",
    "         mkdir chkpt\\n\n",
    "         echo 'clone code'\\n \n",
    "         git clone https://github.com/kuhanw/seq2seq.git\\n \n",
    "         git clone https://github.com/kuhanw/processed_data.git\\n \n",
    "         cd processed_data\\n unrar e processed_data.rar\\n\n",
    "         cd /home/ubuntu\\n\n",
    "         mount -t nfs4 -o nfsvers=4.1,rsize=1048576,wsize=1048576,hard,timeo=600,retrans=2 fs-31675578.efs.us-east-1.amazonaws.com:/ efs\\n\n",
    "         chmod -R 777 processing_information\\n\n",
    "         export PATH=\"/home/ubuntu/.conda/envs/tensorflow-gpu/bin:$PATH\"\\n\n",
    "         cd processing_information/seq2seq\\n\n",
    "         nohup python seq2seq_training.py -s ../../efs/chkpt -r ../../efs/chkpt -cells 512 -n_layers 2 -n_embedding 2048 -dropout 0.7 -beam_length 10 -minibatch_s\n",
    "ize 128 > out.log &\\n''').decode(\"ascii\"),\n",
    "        'KeyName':'kuhan_aws'\n",
    "    },\n",
    "    SpotPrice=str(df_price_history['SpotPrice'].max()),\n",
    "    Type='one-time',\n",
    "    InstanceInterruptionBehavior='terminate'\n",
    ")"
   ]
  },
  {
   "cell_type": "code",
   "execution_count": null,
   "metadata": {},
   "outputs": [],
   "source": []
  }
 ],
 "metadata": {
  "kernelspec": {
   "display_name": "Python 3",
   "language": "python",
   "name": "python3"
  },
  "language_info": {
   "codemirror_mode": {
    "name": "ipython",
    "version": 3
   },
   "file_extension": ".py",
   "mimetype": "text/x-python",
   "name": "python",
   "nbconvert_exporter": "python",
   "pygments_lexer": "ipython3",
   "version": "3.5.4"
  }
 },
 "nbformat": 4,
 "nbformat_minor": 2
}
